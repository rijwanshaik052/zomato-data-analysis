{
 "cells": [
  {
   "cell_type": "code",
   "execution_count": 20,
   "id": "1305379e-ca46-4d35-83c0-226a79f640de",
   "metadata": {},
   "outputs": [
    {
     "name": "stdout",
     "output_type": "stream",
     "text": [
      
     ]
    }
   ],
   "source": [
    
   ]
  },
  {
   "cell_type": "code",
   "execution_count": 46,
   "id": "247375fd-b548-4a18-b935-eaaa70b5b310",
   "metadata": {},
   "outputs": [],
   "source": [
    "import pandas as pd\n",
    "import numpy as np\n",
    "import matplotlib.pyplot as plt\n",
    "import seaborn as sns"
   ]
  },
  {
   "cell_type": "code",
   "execution_count": 22,
   "id": "619cbeda-cb8c-496b-a369-eb6dcc9ea832",
   "metadata": {},
   "outputs": [],
   "source": [
    "df=pd.read_csv(\"Downloads/messy_zomato_data.csv\")"
   ]
  },
  {
   "cell_type": "code",
   "execution_count": 23,
   "id": "e47150cd-89e1-41b1-968a-4c8e6fbf268b",
   "metadata": {},
   "outputs": [
    {
     "data": {
      "text/html": [
       "<div>\n",
       "<style scoped>\n",
       "    .dataframe tbody tr th:only-of-type {\n",
       "        vertical-align: middle;\n",
       "    }\n",
       "\n",
       "    .dataframe tbody tr th {\n",
       "        vertical-align: top;\n",
       "    }\n",
       "\n",
       "    .dataframe thead th {\n",
       "        text-align: right;\n",
       "    }\n",
       "</style>\n",
       "<table border=\"1\" class=\"dataframe\">\n",
       "  <thead>\n",
       "    <tr style=\"text-align: right;\">\n",
       "      <th></th>\n",
       "      <th>name</th>\n",
       "      <th>online_order</th>\n",
       "      <th>book_table</th>\n",
       "      <th>rate</th>\n",
       "      <th>votes</th>\n",
       "      <th>approx_cost(for two people)</th>\n",
       "      <th>listed_in(type)</th>\n",
       "    </tr>\n",
       "  </thead>\n",
       "  <tbody>\n",
       "    <tr>\n",
       "      <th>0</th>\n",
       "      <td>aalsa</td>\n",
       "      <td>Yes</td>\n",
       "      <td>Yqs</td>\n",
       "      <td>NaN</td>\n",
       "      <td>775.0</td>\n",
       "      <td>800.0</td>\n",
       "      <td>Buffet</td>\n",
       "    </tr>\n",
       "    <tr>\n",
       "      <th>1</th>\n",
       "      <td>Spice Elephant</td>\n",
       "      <td>Yes</td>\n",
       "      <td>NaN</td>\n",
       "      <td>NaN</td>\n",
       "      <td>NaN</td>\n",
       "      <td>800.0</td>\n",
       "      <td>Buffet</td>\n",
       "    </tr>\n",
       "    <tr>\n",
       "      <th>2</th>\n",
       "      <td>San Churro Cafe</td>\n",
       "      <td>Yed</td>\n",
       "      <td>No</td>\n",
       "      <td>3.8/5</td>\n",
       "      <td>918.0</td>\n",
       "      <td>800.0</td>\n",
       "      <td>Buffet</td>\n",
       "    </tr>\n",
       "    <tr>\n",
       "      <th>3</th>\n",
       "      <td>Addhuri Udupi Bhojana</td>\n",
       "      <td>No</td>\n",
       "      <td>No</td>\n",
       "      <td>3.7/5</td>\n",
       "      <td>88.0</td>\n",
       "      <td>300.0</td>\n",
       "      <td>Buffet</td>\n",
       "    </tr>\n",
       "    <tr>\n",
       "      <th>4</th>\n",
       "      <td>Grand Village</td>\n",
       "      <td>No</td>\n",
       "      <td>No</td>\n",
       "      <td>NaN</td>\n",
       "      <td>166.0</td>\n",
       "      <td>600.0</td>\n",
       "      <td>Buffet</td>\n",
       "    </tr>\n",
       "  </tbody>\n",
       "</table>\n",
       "</div>"
      ],
      "text/plain": [
       "                    name online_order book_table   rate  votes  \\\n",
       "0                  aalsa          Yes        Yqs    NaN  775.0   \n",
       "1         Spice Elephant          Yes        NaN    NaN    NaN   \n",
       "2        San Churro Cafe          Yed         No  3.8/5  918.0   \n",
       "3  Addhuri Udupi Bhojana           No         No  3.7/5   88.0   \n",
       "4          Grand Village           No         No    NaN  166.0   \n",
       "\n",
       "   approx_cost(for two people) listed_in(type)  \n",
       "0                        800.0          Buffet  \n",
       "1                        800.0          Buffet  \n",
       "2                        800.0          Buffet  \n",
       "3                        300.0          Buffet  \n",
       "4                        600.0          Buffet  "
      ]
     },
     "execution_count": 23,
     "metadata": {},
     "output_type": "execute_result"
    }
   ],
   "source": [
    "df.head()"
   ]
  },
  {
   "cell_type": "code",
   "execution_count": 24,
   "id": "fda42191-c971-44a6-84fd-a8f69cddbc73",
   "metadata": {},
   "outputs": [
    {
     "name": "stdout",
     "output_type": "stream",
     "text": [
      "<class 'pandas.core.frame.DataFrame'>\n",
      "RangeIndex: 155 entries, 0 to 154\n",
      "Data columns (total 7 columns):\n",
      " #   Column                       Non-Null Count  Dtype  \n",
      "---  ------                       --------------  -----  \n",
      " 0   name                         138 non-null    object \n",
      " 1   online_order                 138 non-null    object \n",
      " 2   book_table                   140 non-null    object \n",
      " 3   rate                         131 non-null    object \n",
      " 4   votes                        140 non-null    float64\n",
      " 5   approx_cost(for two people)  140 non-null    float64\n",
      " 6   listed_in(type)              140 non-null    object \n",
      "dtypes: float64(2), object(5)\n",
      "memory usage: 8.6+ KB\n"
     ]
    }
   ],
   "source": [
    "df.info()"
   ]
  },
  {
   "cell_type": "code",
   "execution_count": 25,
   "id": "bed9057c-e461-4715-bce3-cb7c87e0786c",
   "metadata": {},
   "outputs": [
    {
     "data": {
      "text/html": [
       "<div>\n",
       "<style scoped>\n",
       "    .dataframe tbody tr th:only-of-type {\n",
       "        vertical-align: middle;\n",
       "    }\n",
       "\n",
       "    .dataframe tbody tr th {\n",
       "        vertical-align: top;\n",
       "    }\n",
       "\n",
       "    .dataframe thead th {\n",
       "        text-align: right;\n",
       "    }\n",
       "</style>\n",
       "<table border=\"1\" class=\"dataframe\">\n",
       "  <thead>\n",
       "    <tr style=\"text-align: right;\">\n",
       "      <th></th>\n",
       "      <th>votes</th>\n",
       "      <th>approx_cost(for two people)</th>\n",
       "    </tr>\n",
       "  </thead>\n",
       "  <tbody>\n",
       "    <tr>\n",
       "      <th>count</th>\n",
       "      <td>140.000000</td>\n",
       "      <td>140.000000</td>\n",
       "    </tr>\n",
       "    <tr>\n",
       "      <th>mean</th>\n",
       "      <td>300.814286</td>\n",
       "      <td>899.642857</td>\n",
       "    </tr>\n",
       "    <tr>\n",
       "      <th>std</th>\n",
       "      <td>703.890173</td>\n",
       "      <td>2333.910915</td>\n",
       "    </tr>\n",
       "    <tr>\n",
       "      <th>min</th>\n",
       "      <td>0.000000</td>\n",
       "      <td>100.000000</td>\n",
       "    </tr>\n",
       "    <tr>\n",
       "      <th>25%</th>\n",
       "      <td>4.000000</td>\n",
       "      <td>250.000000</td>\n",
       "    </tr>\n",
       "    <tr>\n",
       "      <th>50%</th>\n",
       "      <td>40.500000</td>\n",
       "      <td>400.000000</td>\n",
       "    </tr>\n",
       "    <tr>\n",
       "      <th>75%</th>\n",
       "      <td>244.250000</td>\n",
       "      <td>600.000000</td>\n",
       "    </tr>\n",
       "    <tr>\n",
       "      <th>max</th>\n",
       "      <td>4884.000000</td>\n",
       "      <td>18000.000000</td>\n",
       "    </tr>\n",
       "  </tbody>\n",
       "</table>\n",
       "</div>"
      ],
      "text/plain": [
       "             votes  approx_cost(for two people)\n",
       "count   140.000000                   140.000000\n",
       "mean    300.814286                   899.642857\n",
       "std     703.890173                  2333.910915\n",
       "min       0.000000                   100.000000\n",
       "25%       4.000000                   250.000000\n",
       "50%      40.500000                   400.000000\n",
       "75%     244.250000                   600.000000\n",
       "max    4884.000000                 18000.000000"
      ]
     },
     "execution_count": 25,
     "metadata": {},
     "output_type": "execute_result"
    }
   ],
   "source": [
    "df.describe()"
   ]
  },
  {
   "cell_type": "code",
   "execution_count": 26,
   "id": "27bb818b-87eb-45f0-a969-cfb4d6b53b5a",
   "metadata": {},
   "outputs": [
    {
     "name": "stdout",
     "output_type": "stream",
     "text": [
      "['Yes' 'Yed' 'No' nan 'Yys' 'qes' 'ies' 'xes' 'bes' 'Yts']\n"
     ]
    }
   ],
   "source": [
    "print(df['online_order'].unique())\n"
   ]
  },
  {
   "cell_type": "code",
   "execution_count": 27,
   "id": "b9f591a6-be5d-4cb0-a46a-c7b8cfdac38f",
   "metadata": {},
   "outputs": [],
   "source": [
    "mapping={\"yes\":'yes','yed':'yes','No':'no','Yys':'yes','qes':'yes','ies':'yes','xes':'yes','bes':'yes','yts':'yes','no':'no'}"
   ]
  },
  {
   "cell_type": "code",
   "execution_count": 28,
   "id": "29129c8b-12bf-4432-9e9b-aa6c3c3c9ec2",
   "metadata": {},
   "outputs": [
    {
     "data": {
      "text/plain": [
       "array(['Yes', 'Yed', 'No', nan, 'Yys', 'qes', 'ies', 'xes', 'bes', 'Yts'],\n",
       "      dtype=object)"
      ]
     },
     "execution_count": 28,
     "metadata": {},
     "output_type": "execute_result"
    }
   ],
   "source": [
    "df[\"online_order\"].unique()"
   ]
  },
  {
   "cell_type": "code",
   "execution_count": 35,
   "id": "f3066281-36b3-4012-b928-21ef3f7f7da4",
   "metadata": {},
   "outputs": [],
   "source": [
    "df[\"online_order\"]=df[\"online_order\"].map(mapping)"
   ]
  },
  {
   "cell_type": "code",
   "execution_count": 36,
   "id": "a14038f3-684f-4580-acff-2b20429fd726",
   "metadata": {},
   "outputs": [
    {
     "data": {
      "text/plain": [
       "name                            17\n",
       "online_order                   155\n",
       "book_table                      15\n",
       "rate                            24\n",
       "votes                           15\n",
       "approx_cost(for two people)     15\n",
       "listed_in(type)                 15\n",
       "dtype: int64"
      ]
     },
     "execution_count": 36,
     "metadata": {},
     "output_type": "execute_result"
    }
   ],
   "source": [
    "df.isnull().sum()"
   ]
  },
  {
   "cell_type": "code",
   "execution_count": 38,
   "id": "e0e7aa31-e72f-4bfd-9d38-65bd9a4b6344",
   "metadata": {},
   "outputs": [],
   "source": [
    "from sklearn.preprocessing import LabelEncoder\n",
    "le=LabelEncoder()\n",
    "df[\"online_order\"]=le.fit_transform(df[\"online_order\"])"
   ]
  },
  {
   "cell_type": "code",
   "execution_count": 40,
   "id": "8f038abe-eaa9-4984-aa0d-6abf5125ae6b",
   "metadata": {},
   "outputs": [
    {
     "data": {
      "text/html": [
       "<div>\n",
       "<style scoped>\n",
       "    .dataframe tbody tr th:only-of-type {\n",
       "        vertical-align: middle;\n",
       "    }\n",
       "\n",
       "    .dataframe tbody tr th {\n",
       "        vertical-align: top;\n",
       "    }\n",
       "\n",
       "    .dataframe thead th {\n",
       "        text-align: right;\n",
       "    }\n",
       "</style>\n",
       "<table border=\"1\" class=\"dataframe\">\n",
       "  <thead>\n",
       "    <tr style=\"text-align: right;\">\n",
       "      <th></th>\n",
       "      <th>name</th>\n",
       "      <th>online_order</th>\n",
       "      <th>book_table</th>\n",
       "      <th>rate</th>\n",
       "      <th>votes</th>\n",
       "      <th>approx_cost(for two people)</th>\n",
       "      <th>listed_in(type)</th>\n",
       "    </tr>\n",
       "  </thead>\n",
       "  <tbody>\n",
       "    <tr>\n",
       "      <th>0</th>\n",
       "      <td>aalsa</td>\n",
       "      <td>0</td>\n",
       "      <td>Yqs</td>\n",
       "      <td>NaN</td>\n",
       "      <td>775.0</td>\n",
       "      <td>800.0</td>\n",
       "      <td>Buffet</td>\n",
       "    </tr>\n",
       "    <tr>\n",
       "      <th>1</th>\n",
       "      <td>Spice Elephant</td>\n",
       "      <td>0</td>\n",
       "      <td>NaN</td>\n",
       "      <td>NaN</td>\n",
       "      <td>NaN</td>\n",
       "      <td>800.0</td>\n",
       "      <td>Buffet</td>\n",
       "    </tr>\n",
       "    <tr>\n",
       "      <th>2</th>\n",
       "      <td>San Churro Cafe</td>\n",
       "      <td>0</td>\n",
       "      <td>No</td>\n",
       "      <td>3.8/5</td>\n",
       "      <td>918.0</td>\n",
       "      <td>800.0</td>\n",
       "      <td>Buffet</td>\n",
       "    </tr>\n",
       "    <tr>\n",
       "      <th>3</th>\n",
       "      <td>Addhuri Udupi Bhojana</td>\n",
       "      <td>0</td>\n",
       "      <td>No</td>\n",
       "      <td>3.7/5</td>\n",
       "      <td>88.0</td>\n",
       "      <td>300.0</td>\n",
       "      <td>Buffet</td>\n",
       "    </tr>\n",
       "    <tr>\n",
       "      <th>4</th>\n",
       "      <td>Grand Village</td>\n",
       "      <td>0</td>\n",
       "      <td>No</td>\n",
       "      <td>NaN</td>\n",
       "      <td>166.0</td>\n",
       "      <td>600.0</td>\n",
       "      <td>Buffet</td>\n",
       "    </tr>\n",
       "  </tbody>\n",
       "</table>\n",
       "</div>"
      ],
      "text/plain": [
       "                    name  online_order book_table   rate  votes  \\\n",
       "0                  aalsa             0        Yqs    NaN  775.0   \n",
       "1         Spice Elephant             0        NaN    NaN    NaN   \n",
       "2        San Churro Cafe             0         No  3.8/5  918.0   \n",
       "3  Addhuri Udupi Bhojana             0         No  3.7/5   88.0   \n",
       "4          Grand Village             0         No    NaN  166.0   \n",
       "\n",
       "   approx_cost(for two people) listed_in(type)  \n",
       "0                        800.0          Buffet  \n",
       "1                        800.0          Buffet  \n",
       "2                        800.0          Buffet  \n",
       "3                        300.0          Buffet  \n",
       "4                        600.0          Buffet  "
      ]
     },
     "execution_count": 40,
     "metadata": {},
     "output_type": "execute_result"
    }
   ],
   "source": [
    "df.head()"
   ]
  },
  {
   "cell_type": "code",
   "execution_count": 43,
   "id": "201d344f-be5d-4548-bb2d-06f81414d3a8",
   "metadata": {},
   "outputs": [
    {
     "data": {
      "text/html": [
       "<div>\n",
       "<style scoped>\n",
       "    .dataframe tbody tr th:only-of-type {\n",
       "        vertical-align: middle;\n",
       "    }\n",
       "\n",
       "    .dataframe tbody tr th {\n",
       "        vertical-align: top;\n",
       "    }\n",
       "\n",
       "    .dataframe thead th {\n",
       "        text-align: right;\n",
       "    }\n",
       "</style>\n",
       "<table border=\"1\" class=\"dataframe\">\n",
       "  <thead>\n",
       "    <tr style=\"text-align: right;\">\n",
       "      <th></th>\n",
       "      <th>name</th>\n",
       "      <th>online_order</th>\n",
       "      <th>book_table</th>\n",
       "      <th>rate</th>\n",
       "      <th>votes</th>\n",
       "      <th>approx_cost(for two people)</th>\n",
       "      <th>listed_in(type)</th>\n",
       "    </tr>\n",
       "  </thead>\n",
       "  <tbody>\n",
       "    <tr>\n",
       "      <th>150</th>\n",
       "      <td>Smacznego</td>\n",
       "      <td>0</td>\n",
       "      <td>No</td>\n",
       "      <td>NaN</td>\n",
       "      <td>504.0</td>\n",
       "      <td>550.0</td>\n",
       "      <td>Cafls</td>\n",
       "    </tr>\n",
       "    <tr>\n",
       "      <th>151</th>\n",
       "      <td>NaN</td>\n",
       "      <td>0</td>\n",
       "      <td>No</td>\n",
       "      <td>2.9/5</td>\n",
       "      <td>0.0</td>\n",
       "      <td>250.0</td>\n",
       "      <td>Dining</td>\n",
       "    </tr>\n",
       "    <tr>\n",
       "      <th>152</th>\n",
       "      <td>Cafe Coffee Day</td>\n",
       "      <td>0</td>\n",
       "      <td>No</td>\n",
       "      <td>3.6/5</td>\n",
       "      <td>28.0</td>\n",
       "      <td>18000.0</td>\n",
       "      <td>Cafes</td>\n",
       "    </tr>\n",
       "    <tr>\n",
       "      <th>153</th>\n",
       "      <td>Addhuri Udupi Bhojana</td>\n",
       "      <td>0</td>\n",
       "      <td>No</td>\n",
       "      <td>3.7/5</td>\n",
       "      <td>88.0</td>\n",
       "      <td>300.0</td>\n",
       "      <td>Buffev</td>\n",
       "    </tr>\n",
       "    <tr>\n",
       "      <th>154</th>\n",
       "      <td>Penthouse Cafe</td>\n",
       "      <td>0</td>\n",
       "      <td>No</td>\n",
       "      <td>NaN</td>\n",
       "      <td>324.0</td>\n",
       "      <td>700.0</td>\n",
       "      <td>othwr</td>\n",
       "    </tr>\n",
       "  </tbody>\n",
       "</table>\n",
       "</div>"
      ],
      "text/plain": [
       "                      name  online_order book_table   rate  votes  \\\n",
       "150              Smacznego             0         No    NaN  504.0   \n",
       "151                    NaN             0         No  2.9/5    0.0   \n",
       "152        Cafe Coffee Day             0         No  3.6/5   28.0   \n",
       "153  Addhuri Udupi Bhojana             0         No  3.7/5   88.0   \n",
       "154         Penthouse Cafe             0         No    NaN  324.0   \n",
       "\n",
       "     approx_cost(for two people) listed_in(type)  \n",
       "150                        550.0           Cafls  \n",
       "151                        250.0          Dining  \n",
       "152                      18000.0           Cafes  \n",
       "153                        300.0          Buffev  \n",
       "154                        700.0           othwr  "
      ]
     },
     "execution_count": 43,
     "metadata": {},
     "output_type": "execute_result"
    }
   ],
   "source": [
    "df.tail()"
   ]
  },
  {
   "cell_type": "code",
   "execution_count": 42,
   "id": "f9ec6326-e464-4fa8-93df-ef20d5ec2200",
   "metadata": {},
   "outputs": [
    {
     "data": {
      "text/plain": [
       "array([0])"
      ]
     },
     "execution_count": 42,
     "metadata": {},
     "output_type": "execute_result"
    }
   ],
   "source": [
    "df[\"online_order\"].unique()"
   ]
  },
  {
   "cell_type": "code",
   "execution_count": 49,
   "id": "ecf2b9e8-19cf-4c74-8191-371446e82a04",
   "metadata": {},
   "outputs": [
    {
     "data": {
      "text/plain": [
       "array(['Yqs', nan, 'No', 'Yes', 'Yeu'], dtype=object)"
      ]
     },
     "execution_count": 49,
     "metadata": {},
     "output_type": "execute_result"
    }
   ],
   "source": [
    "df[\"book_table\"].unique()"
   ]
  },
  {
   "cell_type": "code",
   "execution_count": 50,
   "id": "9de73104-5f9b-47c5-813d-8241328b0121",
   "metadata": {},
   "outputs": [],
   "source": [
    "mapp={'yqs':'yes','No':'no','yes':'yes','yeu':'yes'}"
   ]
  },
  {
   "cell_type": "code",
   "execution_count": 52,
   "id": "3464593c-f387-47d7-b389-b116b2a281b4",
   "metadata": {},
   "outputs": [],
   "source": [
    "df[\"book_table\"]=df[\"book_table\"].map(mapp)"
   ]
  },
  {
   "cell_type": "code",
   "execution_count": 72,
   "id": "793bd576-fb52-42e6-9365-11154f56a8fa",
   "metadata": {},
   "outputs": [
    {
     "data": {
      "text/plain": [
       "name                           17\n",
       "online_order                    0\n",
       "book_table                      0\n",
       "rate                            0\n",
       "votes                           0\n",
       "approx_cost(for two people)    15\n",
       "listed_in(type)                15\n",
       "dtype: int64"
      ]
     },
     "execution_count": 72,
     "metadata": {},
     "output_type": "execute_result"
    }
   ],
   "source": [
    "df.isnull().sum()"
   ]
  },
  {
   "cell_type": "code",
   "execution_count": 59,
   "id": "9540f55b-2fda-41a9-972e-f3e6d34214a1",
   "metadata": {},
   "outputs": [],
   "source": [
    "df['rate'] = pd.to_numeric(df['rate'], errors='coerce')\n"
   ]
  },
  {
   "cell_type": "code",
   "execution_count": 71,
   "id": "f50ca385-50a3-4cf7-9a5c-4c18a307a3ac",
   "metadata": {},
   "outputs": [],
   "source": [
    "df[\"book_table\"] = df[\"book_table\"].fillna(df[\"book_table\"].mode()[0])\n",
    "df[\"rate\"] = df[\"rate\"].fillna(df[\"rate\"].mode()[0])\n",
    "df['votes']=df['votes'].fillna(df['votes'].mode()[0])"
   ]
  },
  {
   "cell_type": "code",
   "execution_count": 66,
   "id": "e7a86b0a-131d-4ddb-9779-3344769b332f",
   "metadata": {},
   "outputs": [
    {
     "data": {
      "text/plain": [
       "array([7.750e+02,       nan, 9.180e+02, 8.800e+01, 1.660e+02, 2.860e+02,\n",
       "       8.000e+00, 2.556e+03, 3.240e+02, 5.040e+02, 1.500e+02, 1.640e+02,\n",
       "       9.000e+01, 1.440e+02, 9.300e+01, 1.300e+01, 6.200e+01, 1.800e+02,\n",
       "       7.840e+02, 3.100e+01, 3.080e+02, 4.000e+00, 2.300e+01, 1.480e+02,\n",
       "       2.190e+02, 5.060e+02, 9.800e+02, 1.720e+02, 4.150e+02, 2.300e+02,\n",
       "       9.100e+01, 1.647e+03, 4.884e+03, 1.700e+01, 1.330e+02, 2.800e+01,\n",
       "       5.400e+02, 1.008e+03, 2.440e+02, 8.040e+02, 2.450e+02, 2.100e+01,\n",
       "       3.450e+02, 6.180e+02, 6.270e+02, 1.040e+02, 3.540e+02, 5.500e+01,\n",
       "       1.630e+02, 5.800e+01, 8.080e+02, 2.184e+03, 1.720e+03, 3.400e+01,\n",
       "       3.900e+01, 1.988e+03, 6.000e+00, 5.200e+02, 0.000e+00, 8.400e+01,\n",
       "       5.580e+02, 2.200e+01, 1.530e+02, 1.460e+02, 4.200e+01, 6.600e+01,\n",
       "       4.401e+03, 7.000e+00, 9.000e+00, 2.830e+02, 6.500e+01, 7.100e+01,\n",
       "       5.200e+01, 1.000e+01, 4.500e+01, 1.100e+01, 2.900e+01, 3.000e+01,\n",
       "       2.010e+02, 2.500e+01, 7.710e+02])"
      ]
     },
     "execution_count": 66,
     "metadata": {},
     "output_type": "execute_result"
    }
   ],
   "source": [
    "df[\"votes\"].unique()"
   ]
  },
  {
   "cell_type": "code",
   "execution_count": 70,
   "id": "1bfad22d-6298-4715-b84a-89cb9dbfe003",
   "metadata": {},
   "outputs": [],
   "source": [
    "df[\"votes\"]=pd.to_numeric(df[\"votes\"],errors=\"coerce\")"
   ]
  },
  {
   "cell_type": "code",
   "execution_count": 73,
   "id": "2a385f81-1017-4dc9-81ea-eae782d9c787",
   "metadata": {},
   "outputs": [
    {
     "data": {
      "text/plain": [
       "array(['Buffet', nan, 'Cafes', 'other', 'Dining', 'cther', 'bther',\n",
       "       'Dininv', 'othet', 'Dinijg', 'Diying', 'Dkning', 'Diuing',\n",
       "       'Dmning', 'Diniug', 'Dhning', 'Diving', 'hining', 'Diging',\n",
       "       'Dinnng', 'Dinpng', 'Dinxng', 'Cafls', 'Buffev', 'othwr'],\n",
       "      dtype=object)"
      ]
     },
     "execution_count": 73,
     "metadata": {},
     "output_type": "execute_result"
    }
   ],
   "source": [
    "df[\"listed_in(type)\"].unique()"
   ]
  },
  {
   "cell_type": "code",
   "execution_count": 74,
   "id": "c57a28d0-7c6d-4d59-9f45-9b1a04005238",
   "metadata": {},
   "outputs": [],
   "source": [
    "min={'buffet':'buffet','cafes':'cafes','other':'other','dining':'dining','cther':'other','bther':'other','dininv':'dining','othet':'other','dinijg':'dining','diying':'dining','dkning':'dining','diuing':'dining','dmning':'dining','diniug':'dining','dhning':'dining','diving':'dining','hining':'dining','diging':'dining','dinnng':'dining','dinpng':'dining','dinxng':'dining','cafls':'cafes','buffev':'buffet','othwr':'other'}"
   ]
  },
  {
   "cell_type": "code",
   "execution_count": 83,
   "id": "5a880688-05ff-4734-b3da-210b4340bbf3",
   "metadata": {},
   "outputs": [],
   "source": [
    "df[\"listed-in(type)\"]=df[\"listed_in(type)\"].map(min)\n",
    "df[\"listed_in(type)\"]= pd.to_numeric(df[\"listed_in(type)\"], errors='coerce')"
   ]
  },
  {
   "cell_type": "code",
   "execution_count": 86,
   "id": "a953ee8b-3a05-45d6-b059-30b5b89aaee9",
   "metadata": {},
   "outputs": [],
   "source": [
    "mode_value = df[\"listed_in(type)\"].mode()\n",
    "\n",
    "if not mode_value.empty:\n",
    "    # If mode exists, fill NaN with mode\n",
    "    df[\"listed_in(type)\"] = df[\"listed_in(type)\"].fillna(mode_value.iloc[0])\n",
    "else:\n",
    "    # If mode is empty, fill NaN with a default value\n",
    "    df[\"listed_in(type)\"] = df[\"listed_in(type)\"].fillna(\"Unknown\")\n",
    "\n"
   ]
  },
  {
   "cell_type": "code",
   "execution_count": 87,
   "id": "653b595d-67e4-4626-9762-01fb3b6a4be3",
   "metadata": {},
   "outputs": [
    {
     "data": {
      "text/plain": [
       "name                            17\n",
       "online_order                     0\n",
       "book_table                       0\n",
       "rate                             0\n",
       "votes                            0\n",
       "approx_cost(for two people)     15\n",
       "listed_in(type)                  0\n",
       "listed-in(type)                145\n",
       "dtype: int64"
      ]
     },
     "execution_count": 87,
     "metadata": {},
     "output_type": "execute_result"
    }
   ],
   "source": [
    "df.isnull().sum()"
   ]
  },
  {
   "cell_type": "code",
   "execution_count": null,
   "id": "4614e42f-f2e9-4185-a480-dbcd43155f2c",
   "metadata": {},
   "outputs": [],
   "source": []
  }
 ],
 "metadata": {
  "kernelspec": {
   "display_name": "Python 3 (ipykernel)",
   "language": "python",
   "name": "python3"
  },
  "language_info": {
   "codemirror_mode": {
    "name": "ipython",
    "version": 3
   },
   "file_extension": ".py",
   "mimetype": "text/x-python",
   "name": "python",
   "nbconvert_exporter": "python",
   "pygments_lexer": "ipython3",
   "version": "3.10.12"
  }
 },
 "nbformat": 4,
 "nbformat_minor": 5
}
